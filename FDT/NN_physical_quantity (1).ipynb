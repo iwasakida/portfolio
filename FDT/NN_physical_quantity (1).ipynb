{
 "cells": [
  {
   "cell_type": "code",
   "execution_count": 1,
   "id": "6eb160f0",
   "metadata": {},
   "outputs": [],
   "source": [
    "# 必要ライブラリのインポート\n",
    "\n",
    "%matplotlib inline\n",
    "import numpy as np\n",
    "import pandas as pd\n",
    "import matplotlib.pyplot as plt\n",
    "from sklearn.model_selection import train_test_split\n",
    "import japanize_matplotlib\n",
    "from IPython.display import display\n",
    "\n",
    "# torch関連ライブラリのインポート\n",
    "import torch\n",
    "import torch.nn as nn\n",
    "import torch.optim as optim\n",
    "from torchinfo import summary\n",
    "from torchviz import make_dot\n",
    "import torchvision.datasets as datasets\n",
    "import torchvision.transforms as transforms\n",
    "from torch.utils.data import DataLoader\n",
    "from torch.utils.data import TensorDataset\n",
    "from torch.autograd import Variable"
   ]
  },
  {
   "cell_type": "code",
   "execution_count": 2,
   "id": "bd989c82",
   "metadata": {},
   "outputs": [
    {
     "name": "stdout",
     "output_type": "stream",
     "text": [
      "cpu\n"
     ]
    }
   ],
   "source": [
    "# デバイスの割り当て\n",
    "device = torch.device(\"cuda:0\" if torch.cuda.is_available() else \"cpu\")\n",
    "print(device)"
   ]
  },
  {
   "cell_type": "code",
   "execution_count": 3,
   "id": "9b28ec57",
   "metadata": {},
   "outputs": [],
   "source": [
    "df = pd.read_csv('n1c1o.csv')\n",
    "df2 = pd.read_csv('n1c1p.csv')\n",
    "df3 = pd.read_csv('n1c3o.csv')\n",
    "df4 = pd.read_csv('n3c1o.csv')"
   ]
  },
  {
   "cell_type": "code",
   "execution_count": 4,
   "id": "bc8871c0",
   "metadata": {},
   "outputs": [],
   "source": [
    "phi = np.array( df.columns).astype(float)\n",
    "phi2 = np.array( df2.columns).astype(float)\n",
    "phi3 = np.array( df3.columns).astype(float)\n",
    "phi4 = np.array( df4.columns).astype(float)"
   ]
  },
  {
   "cell_type": "code",
   "execution_count": 5,
   "id": "3d881640",
   "metadata": {},
   "outputs": [],
   "source": [
    "x = np.array(df).astype(complex)\n",
    "x2 = np.array(df2).astype(complex)\n",
    "x3 = np.array(df3).astype(complex)\n",
    "x4 = np.array(df4).astype(complex)"
   ]
  },
  {
   "cell_type": "code",
   "execution_count": 6,
   "id": "5a4ef836",
   "metadata": {},
   "outputs": [],
   "source": [
    "#absでいい？absにしなくてもerrorはでない　実部と虚部にわける？\n",
    "x = np.abs( x )\n",
    "x2 = np.abs(x2)\n",
    "x3 = np.abs(x3)\n",
    "x4 = np.abs(x4)"
   ]
  },
  {
   "attachments": {
    "%E3%82%B9%E3%82%AF%E3%83%AA%E3%83%BC%E3%83%B3%E3%82%B7%E3%83%A7%E3%83%83%E3%83%88%202022-05-29%20211800.png": {
     "image/png": "[encoded data removed]"
    }
   },
   "cell_type": "markdown",
   "id": "5b8c4379",
   "metadata": {},
   "source": [
    "![%E3%82%B9%E3%82%AF%E3%83%AA%E3%83%BC%E3%83%B3%E3%82%B7%E3%83%A7%E3%83%83%E3%83%88%202022-05-29%20211800.png](attachment:%E3%82%B9%E3%82%AF%E3%83%AA%E3%83%BC%E3%83%B3%E3%82%B7%E3%83%A7%E3%83%83%E3%83%88%202022-05-29%20211800.png)"
   ]
  },
  {
   "cell_type": "code",
   "execution_count": 248,
   "id": "258ab9f2",
   "metadata": {},
   "outputs": [],
   "source": [
    "#ひとつにまとめる\n",
    "x_data = np.vstack([x, x2, x3, x4])\n",
    "y_data = np.vstack([np.tile( np.array( [ 0, 1.0, 1.0 ] ), (800,1)),\n",
    "                    np.tile( np.array( [ 1.0, 1.0, 1.0 ] ), (800,1)),\n",
    "                    np.tile( np.array( [ 0, 3.0, 1.0 ] ), (800, 1)),\n",
    "                    np.tile( np.array( [ 0, 1.0, 3.0 ] ), (800, 1))\n",
    "                   ])"
   ]
  },
  {
   "cell_type": "code",
   "execution_count": 8,
   "id": "cf99448f",
   "metadata": {},
   "outputs": [
    {
     "name": "stdout",
     "output_type": "stream",
     "text": [
      "(2400, 20000) (800, 20000) (2400, 3) (800, 3)\n"
     ]
    }
   ],
   "source": [
    "# train setと検証 set に分割\n",
    "x_train, x_test, y_train, y_test = train_test_split(x_data, y_data, random_state=123)\n",
    "print(x_train.shape, x_test.shape, y_train.shape, y_test.shape)"
   ]
  },
  {
   "cell_type": "code",
   "execution_count": 9,
   "id": "880a8f2f",
   "metadata": {},
   "outputs": [],
   "source": [
    "# データローダーの定義\n",
    "\n",
    "# ミニバッチのサイズ指定\n",
    "batch_size = 100\n",
    "\n",
    "# 訓練用データローダー\n",
    "# 訓練用なので、シャッフルをかける\n",
    "train_data = TensorDataset(torch.from_numpy(x_train).float(), torch.from_numpy(y_train).float())\n",
    "train_loader1 = DataLoader(train_data, batch_size = batch_size, shuffle=True)\n",
    "\n",
    "# 検証用データローダー\n",
    "# 検証時にシャッフルは不要\n",
    "test_data = TensorDataset(torch.from_numpy(x_test).float(), torch.from_numpy(y_test).float())\n",
    "test_loader1 = DataLoader(train_data, batch_size, shuffle=True)"
   ]
  },
  {
   "cell_type": "code",
   "execution_count": 10,
   "id": "79eaad20",
   "metadata": {},
   "outputs": [
    {
     "name": "stdout",
     "output_type": "stream",
     "text": [
      "torch.Size([100, 20000])\n",
      "torch.Size([100, 3])\n"
     ]
    }
   ],
   "source": [
    "# train_loader1から1セット取得\n",
    "for images1, labels1 in train_loader1:\n",
    "    break\n",
    "labels1 = labels1.float()\n",
    "# それぞれのshape確認\n",
    "print(images1.shape)\n",
    "print(labels1.shape)"
   ]
  },
  {
   "cell_type": "code",
   "execution_count": 11,
   "id": "952dd976",
   "metadata": {},
   "outputs": [],
   "source": [
    "# モデルの引数と入力が同じ型でないとエラーが出るためいたるところにfloat()とlong()があるがこんなになくてもいい\n",
    "# 損失計算用\n",
    "def eval_loss(loader, device, net):\n",
    "  \n",
    "    # データローダーから最初の1セットを取得する\n",
    "    for images, labels in loader:\n",
    "        break\n",
    "\n",
    "    # デバイスの割り当て\n",
    "    inputs = images.to(device).float()\n",
    "    labels = labels.to(device).float()\n",
    "\n",
    "    # 予測計算\n",
    "    outputs = net(inputs.float())\n",
    "\n",
    "    #  損失計算\n",
    "    loss = RMS(outputs.float(), labels.float())\n",
    "\n",
    "    return loss"
   ]
  },
  {
   "cell_type": "code",
   "execution_count": 275,
   "id": "0c802919",
   "metadata": {},
   "outputs": [],
   "source": [
    "# 学習用関数\n",
    "def fit(net, optimizer, num_epochs, train_loader, test_loader, device, history):\n",
    "\n",
    "    # tqdmライブラリのインポート\n",
    "    from tqdm.notebook import tqdm\n",
    "\n",
    "    base_epochs = len(history)\n",
    "  \n",
    "    for epoch in range(base_epochs, num_epochs+base_epochs):\n",
    "        train_loss = 0\n",
    "        test_loss = 0\n",
    "\n",
    "        #訓練フェーズ\n",
    "        net.train()\n",
    "        count = 0\n",
    "\n",
    "        for inputs, labels in tqdm(train_loader):\n",
    "            count += len(labels)\n",
    "            inputs = inputs.to(device).float()\n",
    "            labels = labels.to(device).float()\n",
    "            \n",
    "            # 勾配の初期化\n",
    "            optimizer.zero_grad()\n",
    "            \n",
    "            \n",
    "            # 予測計算\n",
    "            outputs = net(inputs.float()).float()\n",
    "            \n",
    "            #値の制限 下限を０\n",
    "            outputs = torch.clamp(input=outputs, min= 0)\n",
    "            \n",
    "            # 損失計算 ここではRMSで計算\n",
    "            loss = RMS( outputs, labels )\n",
    "            train_loss += loss\n",
    "\n",
    "            # 勾配計算\n",
    "            loss.backward()\n",
    "\n",
    "            # パラメータ修正\n",
    "            optimizer.step()\n",
    "\n",
    "        #予測フェーズ\n",
    "        net.eval()\n",
    "        count = 0\n",
    "\n",
    "        for inputs, labels in test_loader:\n",
    "            inputs = inputs.to(device)\n",
    "            labels = labels.to(device)\n",
    "\n",
    "            # 予測計算\n",
    "            outputs = net(inputs)\n",
    "            \n",
    "            #値の制限 下限を０\n",
    "            #outputs = torch.clamp(input=outputs, min= 0)\n",
    "            \n",
    "            # 損失計算\n",
    "            loss = RMS(outputs, labels.float())\n",
    "            test_loss += loss\n",
    "            \n",
    "        print( f'Epoch [{(epoch+1)}/{num_epochs+base_epochs}], train loss: {train_loss:.3f}, val_loss: {test_loss:.3f}')\n",
    "        train_loss = train_loss.detach().numpy()\n",
    "        test_loss = test_loss.detach().numpy()\n",
    "        item = np.array([epoch+1, train_loss, test_loss])\n",
    "        \n",
    "        history = np.vstack((history, item))\n",
    "    return history"
   ]
  },
  {
   "cell_type": "code",
   "execution_count": 276,
   "id": "9f09dcef",
   "metadata": {},
   "outputs": [],
   "source": [
    "# 学習ログ解析\n",
    "def evaluate_history(history):\n",
    "\n",
    "    num_epochs = len(history)\n",
    "    unit = num_epochs / 10\n",
    "\n",
    "    # 学習曲線の表示 (損失)\n",
    "    plt.figure()\n",
    "    plt.plot(history[:,0], history[:,1], c = 'r', label='train')\n",
    "    plt.plot(history[:,0], history[:,2], 'c', label='test')\n",
    "    plt.xticks(np.arange(0,num_epochs+1, unit))\n",
    "    plt.xlabel('number epoch')\n",
    "    plt.ylabel('loss')\n",
    "    plt.title('Learning Curve(loss)')\n",
    "    plt.legend()\n",
    "    plt.show()"
   ]
  },
  {
   "cell_type": "code",
   "execution_count": 277,
   "id": "8fb35f64",
   "metadata": {},
   "outputs": [],
   "source": [
    "# PyTorch乱数固定用\n",
    "def torch_seed(seed=123):\n",
    "    torch.manual_seed(seed)\n",
    "    torch.cuda.manual_seed(seed)\n",
    "    torch.backends.cudnn.deterministic = True\n",
    "    torch.use_deterministic_algorithms = True"
   ]
  },
  {
   "cell_type": "code",
   "execution_count": 278,
   "id": "2a083ccc",
   "metadata": {},
   "outputs": [
    {
     "name": "stdout",
     "output_type": "stream",
     "text": [
      "torch.Size([100, 20000])\n",
      "torch.Size([100, 3])\n"
     ]
    }
   ],
   "source": [
    "# train_loader1から1セット取得\n",
    "for images1, labels1 in train_loader1:\n",
    "    break\n",
    "labels1 = labels1.float()\n",
    "# それぞれのshape確認\n",
    "print(images1.shape)\n",
    "print(labels1.shape)"
   ]
  },
  {
   "cell_type": "code",
   "execution_count": 279,
   "id": "623bd48f",
   "metadata": {},
   "outputs": [
    {
     "name": "stdout",
     "output_type": "stream",
     "text": [
      "n_input: torch.Size([20000]), n_output: 3\n"
     ]
    }
   ],
   "source": [
    "#n_input = image1.view(-1).shape[0]\n",
    "n_input = images1[0].shape\n",
    "# 出力次元数\n",
    "n_output = labels1.shape[1]\n",
    "\n",
    "# 結果確認\n",
    "print(f'n_input: {n_input}, n_output: {n_output}')"
   ]
  },
  {
   "cell_type": "code",
   "execution_count": 280,
   "id": "b1648fe3",
   "metadata": {},
   "outputs": [],
   "source": [
    "class NN(nn.Module):\n",
    "  def __init__(self, n_output):\n",
    "    super().__init__()\n",
    "    self.maxpool = nn.MaxPool1d(5)\n",
    "    self.relu = nn.ReLU(inplace=True)\n",
    "    self.l1 = nn.Linear(20000, 512)\n",
    "    self.l2 = nn.Linear(512, 3)\n",
    "    \n",
    "    self.features = nn.Sequential(\n",
    "        \n",
    "        self.maxpool)\n",
    "    \n",
    "    self.classifier = nn.Sequential(\n",
    "        self.l1,\n",
    "        self.relu,\n",
    "        self.l2,\n",
    "    )\n",
    "\n",
    "  def forward(self, x):\n",
    "    x = self.classifier(x)\n",
    "    return x"
   ]
  },
  {
   "cell_type": "code",
   "execution_count": 281,
   "id": "b63fc88b",
   "metadata": {},
   "outputs": [],
   "source": [
    "def RMS(y, y_p):\n",
    "    return ((y_p - y)**2).mean()"
   ]
  },
  {
   "cell_type": "code",
   "execution_count": 282,
   "id": "174848c3",
   "metadata": {},
   "outputs": [],
   "source": [
    "# モデルインスタンス生成\n",
    "net = NN(n_output).to(device)\n",
    "\n",
    "# 学習率\n",
    "lr = 0.01\n",
    "\n",
    "# 最適化関数: 勾配降下法\n",
    "optimizer = torch.optim.SGD(net.parameters(), lr=lr)"
   ]
  },
  {
   "cell_type": "code",
   "execution_count": 283,
   "id": "2ea1811d",
   "metadata": {},
   "outputs": [
    {
     "name": "stdout",
     "output_type": "stream",
     "text": [
      "NN(\n",
      "  (maxpool): MaxPool1d(kernel_size=5, stride=5, padding=0, dilation=1, ceil_mode=False)\n",
      "  (relu): ReLU(inplace=True)\n",
      "  (l1): Linear(in_features=20000, out_features=512, bias=True)\n",
      "  (l2): Linear(in_features=512, out_features=3, bias=True)\n",
      "  (features): Sequential(\n",
      "    (0): MaxPool1d(kernel_size=5, stride=5, padding=0, dilation=1, ceil_mode=False)\n",
      "  )\n",
      "  (classifier): Sequential(\n",
      "    (0): Linear(in_features=20000, out_features=512, bias=True)\n",
      "    (1): ReLU(inplace=True)\n",
      "    (2): Linear(in_features=512, out_features=3, bias=True)\n",
      "  )\n",
      ")\n"
     ]
    }
   ],
   "source": [
    "# モデルの概要表示\n",
    "print(net)"
   ]
  },
  {
   "cell_type": "code",
   "execution_count": 284,
   "id": "f03dfe05",
   "metadata": {},
   "outputs": [],
   "source": [
    "# 損失計算\n",
    "loss = eval_loss(test_loader1, device, net)"
   ]
  },
  {
   "cell_type": "code",
   "execution_count": null,
   "id": "21d9a2ee",
   "metadata": {},
   "outputs": [],
   "source": [
    "%%time\n",
    "# 乱数初期化\n",
    "torch_seed()\n",
    "\n",
    "# モデルインスタンス生成\n",
    "net = NN(n_output).to(device)\n",
    "\n",
    "# 損失関数： 平均二乗誤差\n",
    "criterion = nn.MSELoss\n",
    "\n",
    "# 最適化関数: 勾配降下法\n",
    "optimizer = optim.SGD(net.parameters(), lr=lr)\n",
    "\n",
    "# 繰り返し回数\n",
    "num_epochs = 500\n",
    "\n",
    "# 評価結果記録用\n",
    "history = np.zeros((0,3))\n",
    "\n",
    "# 学習\n",
    "history = fit(net, optimizer, num_epochs, train_loader1, test_loader1, device, history)"
   ]
  },
  {
   "cell_type": "code",
   "execution_count": 297,
   "id": "1b028ef8",
   "metadata": {},
   "outputs": [
    {
     "data": {
      "image/png": "[encoded data removed]",
      "text/plain": [
       "<Figure size 432x288 with 1 Axes>"
      ]
     },
     "metadata": {
      "needs_background": "light"
     },
     "output_type": "display_data"
    }
   ],
   "source": [
    "# 評価\n",
    "evaluate_history(history)"
   ]
  },
  {
   "cell_type": "code",
   "execution_count": 315,
   "id": "3e89ebff",
   "metadata": {},
   "outputs": [],
   "source": [
    "# Evaluate the model\n",
    "test_var = Variable(torch.FloatTensor(x), requires_grad=True)\n",
    "with torch.no_grad():\n",
    "    result = net(test_var)\n",
    "result = torch.clip(result, min = 0)\n",
    "result = result.detach().numpy()"
   ]
  },
  {
   "cell_type": "code",
   "execution_count": 334,
   "id": "ce34bf54",
   "metadata": {},
   "outputs": [],
   "source": [
    "from uncertainties import ufloat\n",
    "from uncertainties.umath import * \n",
    "from uncertainties import unumpy as unp"
   ]
  },
  {
   "cell_type": "code",
   "execution_count": 369,
   "id": "75fe826c",
   "metadata": {},
   "outputs": [],
   "source": [
    "# Evaluate the model\n",
    "test_var = Variable(torch.FloatTensor(x), requires_grad=True)\n",
    "with torch.no_grad():\n",
    "    result = net(test_var)\n",
    "result = torch.clip(result, min = 0)\n",
    "result = result.detach().numpy()\n",
    "t00 = ufloat( np.mean( result[:,0] ), np.std(result[:,0]))\n",
    "t01 = ufloat( np.mean( result[:,1] ), np.std(result[:,1]))\n",
    "t02 = ufloat( np.mean( result[:,2] ), np.std(result[:,2]))"
   ]
  },
  {
   "cell_type": "code",
   "execution_count": 370,
   "id": "257d3cca",
   "metadata": {},
   "outputs": [],
   "source": [
    "# Evaluate the model\n",
    "test_var = Variable(torch.FloatTensor(x2), requires_grad=True)\n",
    "with torch.no_grad():\n",
    "    result = net(test_var)\n",
    "result = torch.clip(result, min = 0)\n",
    "result = result.detach().numpy()\n",
    "t10 = ufloat( np.mean( result[:,0] ), np.std(result[:,0]))\n",
    "t11 = ufloat( np.mean( result[:,1] ), np.std(result[:,1]))\n",
    "t12 = ufloat( np.mean( result[:,2] ), np.std(result[:,2]))"
   ]
  },
  {
   "cell_type": "code",
   "execution_count": 371,
   "id": "9d29922e",
   "metadata": {},
   "outputs": [],
   "source": [
    "# Evaluate the model\n",
    "test_var = Variable(torch.FloatTensor(x3), requires_grad=True)\n",
    "with torch.no_grad():\n",
    "    result = net(test_var)\n",
    "result = torch.clip(result, min = 0)\n",
    "result = result.detach().numpy()\n",
    "t20 = ufloat( np.mean( result[:,0] ), np.std(result[:,0]))\n",
    "t21 = ufloat( np.mean( result[:,1] ), np.std(result[:,1]))\n",
    "t22 = ufloat( np.mean( result[:,2] ), np.std(result[:,2]))"
   ]
  },
  {
   "cell_type": "code",
   "execution_count": 372,
   "id": "712e42e7",
   "metadata": {},
   "outputs": [],
   "source": [
    "# Evaluate the model\n",
    "test_var = Variable(torch.FloatTensor(x4), requires_grad=True)\n",
    "with torch.no_grad():\n",
    "    result = net(test_var)\n",
    "result = torch.clip(result, min = 0)\n",
    "result = result.detach().numpy()\n",
    "t30 = ufloat( np.mean( result[:,0] ), np.std(result[:,0]))\n",
    "t31 = ufloat( np.mean( result[:,1] ), np.std(result[:,1]))\n",
    "t32 = ufloat( np.mean( result[:,2] ), np.std(result[:,2]))"
   ]
  },
  {
   "cell_type": "code",
   "execution_count": 375,
   "id": "c2e0b04b",
   "metadata": {},
   "outputs": [],
   "source": [
    "df = pd.DataFrame({'B': [t00, t10, t20, t30],\n",
    "                   'hc': [t01, t11, t21, t31],\n",
    "                   'h1': [t02, t12, t22, t32]\n",
    "                  },\n",
    "                  index=['model1', 'model2', 'model3', 'model4'])"
   ]
  },
  {
   "cell_type": "code",
   "execution_count": 376,
   "id": "784b0e55",
   "metadata": {},
   "outputs": [
    {
     "data": {
      "text/html": [
       "<div>\n",
       "<style scoped>\n",
       "    .dataframe tbody tr th:only-of-type {\n",
       "        vertical-align: middle;\n",
       "    }\n",
       "\n",
       "    .dataframe tbody tr th {\n",
       "        vertical-align: top;\n",
       "    }\n",
       "\n",
       "    .dataframe thead th {\n",
       "        text-align: right;\n",
       "    }\n",
       "</style>\n",
       "<table border=\"1\" class=\"dataframe\">\n",
       "  <thead>\n",
       "    <tr style=\"text-align: right;\">\n",
       "      <th></th>\n",
       "      <th>B</th>\n",
       "      <th>hc</th>\n",
       "      <th>h1</th>\n",
       "    </tr>\n",
       "  </thead>\n",
       "  <tbody>\n",
       "    <tr>\n",
       "      <th>model1</th>\n",
       "      <td>0.014+/-0.035</td>\n",
       "      <td>1.04+/-0.10</td>\n",
       "      <td>1.01+/-0.09</td>\n",
       "    </tr>\n",
       "    <tr>\n",
       "      <th>model2</th>\n",
       "      <td>0.98+/-0.07</td>\n",
       "      <td>0.999+/-0.013</td>\n",
       "      <td>1.04+/-0.11</td>\n",
       "    </tr>\n",
       "    <tr>\n",
       "      <th>model3</th>\n",
       "      <td>0.006+/-0.009</td>\n",
       "      <td>2.97+/-0.27</td>\n",
       "      <td>1.005+/-0.020</td>\n",
       "    </tr>\n",
       "    <tr>\n",
       "      <th>model4</th>\n",
       "      <td>0.04+/-0.06</td>\n",
       "      <td>1.001+/-0.016</td>\n",
       "      <td>2.96+/-0.20</td>\n",
       "    </tr>\n",
       "  </tbody>\n",
       "</table>\n",
       "</div>"
      ],
      "text/plain": [
       "                    B             hc             h1\n",
       "model1  0.014+/-0.035    1.04+/-0.10    1.01+/-0.09\n",
       "model2    0.98+/-0.07  0.999+/-0.013    1.04+/-0.11\n",
       "model3  0.006+/-0.009    2.97+/-0.27  1.005+/-0.020\n",
       "model4    0.04+/-0.06  1.001+/-0.016    2.96+/-0.20"
      ]
     },
     "execution_count": 376,
     "metadata": {},
     "output_type": "execute_result"
    }
   ],
   "source": [
    "df"
   ]
  },
  {
   "cell_type": "code",
   "execution_count": 342,
   "id": "686e1774",
   "metadata": {},
   "outputs": [],
   "source": [
    "table4 = pd.DataFrame(\n",
    " index = ['model1', 'model2', 'model3', 'model4']\n",
    ")"
   ]
  },
  {
   "cell_type": "code",
   "execution_count": 343,
   "id": "eb8a1772",
   "metadata": {},
   "outputs": [
    {
     "data": {
      "text/html": [
       "<div>\n",
       "<style scoped>\n",
       "    .dataframe tbody tr th:only-of-type {\n",
       "        vertical-align: middle;\n",
       "    }\n",
       "\n",
       "    .dataframe tbody tr th {\n",
       "        vertical-align: top;\n",
       "    }\n",
       "\n",
       "    .dataframe thead th {\n",
       "        text-align: right;\n",
       "    }\n",
       "</style>\n",
       "<table border=\"1\" class=\"dataframe\">\n",
       "  <thead>\n",
       "    <tr style=\"text-align: right;\">\n",
       "      <th></th>\n",
       "    </tr>\n",
       "  </thead>\n",
       "  <tbody>\n",
       "    <tr>\n",
       "      <th>model1</th>\n",
       "    </tr>\n",
       "    <tr>\n",
       "      <th>model2</th>\n",
       "    </tr>\n",
       "    <tr>\n",
       "      <th>model3</th>\n",
       "    </tr>\n",
       "    <tr>\n",
       "      <th>model4</th>\n",
       "    </tr>\n",
       "  </tbody>\n",
       "</table>\n",
       "</div>"
      ],
      "text/plain": [
       "Empty DataFrame\n",
       "Columns: []\n",
       "Index: [model1, model2, model3, model4]"
      ]
     },
     "execution_count": 343,
     "metadata": {},
     "output_type": "execute_result"
    }
   ],
   "source": [
    "table4"
   ]
  },
  {
   "cell_type": "code",
   "execution_count": null,
   "id": "75291146",
   "metadata": {},
   "outputs": [],
   "source": []
  }
 ],
 "metadata": {
  "kernelspec": {
   "display_name": "Python 3 (ipykernel)",
   "language": "python",
   "name": "python3"
  },
  "language_info": {
   "codemirror_mode": {
    "name": "ipython",
    "version": 3
   },
   "file_extension": ".py",
   "mimetype": "text/x-python",
   "name": "python",
   "nbconvert_exporter": "python",
   "pygments_lexer": "ipython3",
   "version": "3.10.4"
  }
 },
 "nbformat": 4,
 "nbformat_minor": 5
}
